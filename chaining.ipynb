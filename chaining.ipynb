{
 "cells": [
  {
   "cell_type": "code",
   "execution_count": null,
   "id": "3a7fcb90",
   "metadata": {},
   "outputs": [],
   "source": [
    "#pip install langchain"
   ]
  },
  {
   "cell_type": "code",
   "execution_count": null,
   "id": "7b193e1e",
   "metadata": {},
   "outputs": [],
   "source": [
    "#pip install openai"
   ]
  },
  {
   "cell_type": "code",
   "execution_count": 1,
   "id": "882c98bd",
   "metadata": {},
   "outputs": [],
   "source": [
    "from langchain.llms import OpenAI"
   ]
  },
  {
   "cell_type": "code",
   "execution_count": 2,
   "id": "e3d4654d",
   "metadata": {},
   "outputs": [],
   "source": [
    "myLLM  = OpenAI(temperature=0, openai_api_key=\"your-openai-key\")"
   ]
  },
  {
   "cell_type": "code",
   "execution_count": 3,
   "id": "13cc6df9",
   "metadata": {},
   "outputs": [],
   "source": [
    "output= myLLM(\n",
    "            prompt= 'Tell me something interesting about SRK')"
   ]
  },
  {
   "cell_type": "code",
   "execution_count": 4,
   "id": "a3955a06",
   "metadata": {},
   "outputs": [
    {
     "name": "stdout",
     "output_type": "stream",
     "text": [
      "\n",
      "\n",
      "Shah Rukh Khan is the first Bollywood actor to have a wax figure in Madame Tussauds Museum in London. He is also the first Indian actor to have a star on the Hollywood Walk of Fame.\n"
     ]
    }
   ],
   "source": [
    "print(output)"
   ]
  },
  {
   "cell_type": "code",
   "execution_count": 5,
   "id": "ff615c51",
   "metadata": {},
   "outputs": [],
   "source": [
    "from langchain.prompts import PromptTemplate"
   ]
  },
  {
   "cell_type": "code",
   "execution_count": 6,
   "id": "445fce5e",
   "metadata": {},
   "outputs": [],
   "source": [
    "myPrompt= PromptTemplate(\n",
    "        template=\"tell me something about {objects}\",\n",
    "        input_variables=[\"objects\"]\n",
    ")"
   ]
  },
  {
   "cell_type": "code",
   "execution_count": 7,
   "id": "2ef13652",
   "metadata": {},
   "outputs": [],
   "source": [
    "output = myLLM(prompt=myPrompt.format(objects=\"SRK\"))"
   ]
  },
  {
   "cell_type": "code",
   "execution_count": 8,
   "id": "ce0dd262",
   "metadata": {},
   "outputs": [
    {
     "name": "stdout",
     "output_type": "stream",
     "text": [
      "\n",
      "\n",
      "Shah Rukh Khan is an Indian actor, producer, and television personality. He is one of the most successful and influential actors in the Indian film industry, having appeared in over 80 Bollywood films. He is also known as the \"King of Bollywood\" and is considered to be one of the most popular and commercially successful actors in the world.\n"
     ]
    }
   ],
   "source": [
    "print(output)"
   ]
  },
  {
   "cell_type": "code",
   "execution_count": 9,
   "id": "976b0095",
   "metadata": {},
   "outputs": [],
   "source": [
    "from langchain.chains import LLMChain"
   ]
  },
  {
   "cell_type": "code",
   "execution_count": 10,
   "id": "7408b340",
   "metadata": {},
   "outputs": [],
   "source": [
    "myThingsPrompt= myLLM(prompt=myPrompt.format(objects=\"Tom Hanks\"))"
   ]
  },
  {
   "cell_type": "code",
   "execution_count": 11,
   "id": "cb67abff",
   "metadata": {},
   "outputs": [
    {
     "data": {
      "text/plain": [
       "'\\n\\nTom Hanks is an American actor, producer, and director. He is widely regarded as one of the greatest actors of all time and has won numerous awards, including two Academy Awards, four Golden Globe Awards, and two Screen Actors Guild Awards. He is best known for his roles in films such as Forrest Gump, Big, Philadelphia, Saving Private Ryan, Cast Away, and The Da Vinci Code.'"
      ]
     },
     "execution_count": 11,
     "metadata": {},
     "output_type": "execute_result"
    }
   ],
   "source": [
    "myThingsPrompt"
   ]
  },
  {
   "cell_type": "code",
   "execution_count": 12,
   "id": "1029b188",
   "metadata": {},
   "outputs": [],
   "source": [
    "myChain= LLMChain(\n",
    "    prompt=myPrompt, \n",
    "    llm= myLLM\n",
    ")"
   ]
  },
  {
   "cell_type": "code",
   "execution_count": 13,
   "id": "6c5e0169",
   "metadata": {},
   "outputs": [
    {
     "name": "stderr",
     "output_type": "stream",
     "text": [
      "Retrying langchain.llms.openai.completion_with_retry.<locals>._completion_with_retry in 4.0 seconds as it raised RateLimitError: Rate limit reached for default-text-davinci-003 in organization org-5ZlaehgliHjM8GnlwbZNpXkb on requests per min. Limit: 3 / min. Please try again in 20s. Contact us through our help center at help.openai.com if you continue to have issues. Please add a payment method to your account to increase your rate limit. Visit https://platform.openai.com/account/billing to add a payment method..\n",
      "Retrying langchain.llms.openai.completion_with_retry.<locals>._completion_with_retry in 4.0 seconds as it raised RateLimitError: Rate limit reached for default-text-davinci-003 in organization org-5ZlaehgliHjM8GnlwbZNpXkb on requests per min. Limit: 3 / min. Please try again in 20s. Contact us through our help center at help.openai.com if you continue to have issues. Please add a payment method to your account to increase your rate limit. Visit https://platform.openai.com/account/billing to add a payment method..\n",
      "Retrying langchain.llms.openai.completion_with_retry.<locals>._completion_with_retry in 4.0 seconds as it raised RateLimitError: Rate limit reached for default-text-davinci-003 in organization org-5ZlaehgliHjM8GnlwbZNpXkb on requests per min. Limit: 3 / min. Please try again in 20s. Contact us through our help center at help.openai.com if you continue to have issues. Please add a payment method to your account to increase your rate limit. Visit https://platform.openai.com/account/billing to add a payment method..\n"
     ]
    }
   ],
   "source": [
    "OutPut=myChain.run(objects=\"Leonardo De Caprio\")"
   ]
  },
  {
   "cell_type": "code",
   "execution_count": 14,
   "id": "c95240fa",
   "metadata": {},
   "outputs": [
    {
     "name": "stdout",
     "output_type": "stream",
     "text": [
      "\n",
      "\n",
      "Leonardo DiCaprio is an American actor, producer, and environmental activist. He has been nominated for six Academy Awards, winning the Best Actor award for his performance in The Revenant (2015). He is also known for his roles in films such as Titanic (1997), Romeo + Juliet (1996), The Wolf of Wall Street (2013), Inception (2010), and The Great Gatsby (2013). He is a prominent figure in the environmental movement and has received numerous awards for his activism.\n"
     ]
    }
   ],
   "source": [
    "print(OutPut)"
   ]
  },
  {
   "cell_type": "code",
   "execution_count": 15,
   "id": "78bd232d",
   "metadata": {},
   "outputs": [],
   "source": [
    "#Accessing current news by giving prompt to GOOGLE using LANG-CHAIN"
   ]
  },
  {
   "cell_type": "code",
   "execution_count": 16,
   "id": "fc5e725f",
   "metadata": {},
   "outputs": [
    {
     "name": "stderr",
     "output_type": "stream",
     "text": [
      "Retrying langchain.llms.openai.completion_with_retry.<locals>._completion_with_retry in 4.0 seconds as it raised RateLimitError: Rate limit reached for default-text-davinci-003 in organization org-5ZlaehgliHjM8GnlwbZNpXkb on requests per min. Limit: 3 / min. Please try again in 20s. Contact us through our help center at help.openai.com if you continue to have issues. Please add a payment method to your account to increase your rate limit. Visit https://platform.openai.com/account/billing to add a payment method..\n",
      "Retrying langchain.llms.openai.completion_with_retry.<locals>._completion_with_retry in 4.0 seconds as it raised RateLimitError: Rate limit reached for default-text-davinci-003 in organization org-5ZlaehgliHjM8GnlwbZNpXkb on requests per min. Limit: 3 / min. Please try again in 20s. Contact us through our help center at help.openai.com if you continue to have issues. Please add a payment method to your account to increase your rate limit. Visit https://platform.openai.com/account/billing to add a payment method..\n",
      "Retrying langchain.llms.openai.completion_with_retry.<locals>._completion_with_retry in 4.0 seconds as it raised RateLimitError: Rate limit reached for default-text-davinci-003 in organization org-5ZlaehgliHjM8GnlwbZNpXkb on requests per min. Limit: 3 / min. Please try again in 20s. Contact us through our help center at help.openai.com if you continue to have issues. Please add a payment method to your account to increase your rate limit. Visit https://platform.openai.com/account/billing to add a payment method..\n",
      "Retrying langchain.llms.openai.completion_with_retry.<locals>._completion_with_retry in 8.0 seconds as it raised RateLimitError: Rate limit reached for default-text-davinci-003 in organization org-5ZlaehgliHjM8GnlwbZNpXkb on requests per min. Limit: 3 / min. Please try again in 20s. Contact us through our help center at help.openai.com if you continue to have issues. Please add a payment method to your account to increase your rate limit. Visit https://platform.openai.com/account/billing to add a payment method..\n"
     ]
    }
   ],
   "source": [
    "output= myLLM(\n",
    "            prompt= 'Todays news of in India ')"
   ]
  },
  {
   "cell_type": "code",
   "execution_count": 17,
   "id": "b5b92a54",
   "metadata": {},
   "outputs": [
    {
     "name": "stdout",
     "output_type": "stream",
     "text": [
      "\n",
      "\n",
      "1. India's COVID-19 Tally Crosses 1.5 Crore Mark: India's total coronavirus cases crossed the 1.5 crore mark on Tuesday, with the country recording 1,50,61,919 cases, according to the Union Health Ministry. The total active cases in the country stand at 18,01,730, while the total recoveries have reached 1,30,90,945. \n",
      "\n",
      "2. India's Vaccination Drive Crosses 8 Crore Mark: India's vaccination drive has crossed the 8 crore mark, with 8,02,45,845 people receiving the first dose of the vaccine, according to the Union Health Ministry. The total number of people who have received the second dose stands at 1,02,45,845. \n",
      "\n",
      "3. India's Economy Grows at 0.4% in Q4 of FY21: India's economy grew at 0.4% in the fourth quarter of the financial year 2021, according to the National Statistical Office. The growth rate was lower than the 0.6% growth rate recorded in the previous quarter. \n",
      "\n",
      "4. India's Inflation Rate Rises to 5.52%: India's inflation rate rose to 5\n"
     ]
    }
   ],
   "source": [
    "print(output)"
   ]
  },
  {
   "cell_type": "code",
   "execution_count": 18,
   "id": "a2e417b2",
   "metadata": {},
   "outputs": [],
   "source": [
    "# to connect anything with the LANG_CHAIN you need t o use the Tools"
   ]
  },
  {
   "cell_type": "code",
   "execution_count": 19,
   "id": "9f28e584",
   "metadata": {},
   "outputs": [],
   "source": [
    "import os"
   ]
  },
  {
   "cell_type": "code",
   "execution_count": 20,
   "id": "6e7ed608",
   "metadata": {},
   "outputs": [],
   "source": [
    "#pip install google-search-results"
   ]
  },
  {
   "cell_type": "code",
   "execution_count": 21,
   "id": "13e9059a",
   "metadata": {},
   "outputs": [],
   "source": [
    "os.environ['SERPAPI_API_KEY']='your-serpapi-key'"
   ]
  },
  {
   "cell_type": "code",
   "execution_count": 22,
   "id": "a072f733",
   "metadata": {},
   "outputs": [],
   "source": [
    "from langchain.agents import load_tools"
   ]
  },
  {
   "cell_type": "code",
   "execution_count": 23,
   "id": "2a2e5b1d",
   "metadata": {},
   "outputs": [],
   "source": [
    "from langchain.agents import AgentType"
   ]
  },
  {
   "cell_type": "code",
   "execution_count": 24,
   "id": "e439be3d",
   "metadata": {},
   "outputs": [],
   "source": [
    "myTools= load_tools(tool_names=[\"serpapi\"])"
   ]
  },
  {
   "cell_type": "code",
   "execution_count": 25,
   "id": "36752495",
   "metadata": {},
   "outputs": [],
   "source": [
    "from langchain.agents import initialize_agent"
   ]
  },
  {
   "cell_type": "code",
   "execution_count": 26,
   "id": "c6edde00",
   "metadata": {},
   "outputs": [],
   "source": [
    "myGoogleChain = initialize_agent(\n",
    "            tools=myTools, \n",
    "            llm= myLLM, \n",
    "            agent= AgentType.ZERO_SHOT_REACT_DESCRIPTION,\n",
    "            verbose=True\n",
    "        )"
   ]
  },
  {
   "cell_type": "code",
   "execution_count": 27,
   "id": "eb960040",
   "metadata": {},
   "outputs": [
    {
     "name": "stdout",
     "output_type": "stream",
     "text": [
      "\n",
      "\n",
      "\u001b[1m> Entering new AgentExecutor chain...\u001b[0m\n"
     ]
    },
    {
     "name": "stderr",
     "output_type": "stream",
     "text": [
      "Retrying langchain.llms.openai.completion_with_retry.<locals>._completion_with_retry in 4.0 seconds as it raised RateLimitError: Rate limit reached for default-text-davinci-003 in organization org-5ZlaehgliHjM8GnlwbZNpXkb on requests per min. Limit: 3 / min. Please try again in 20s. Contact us through our help center at help.openai.com if you continue to have issues. Please add a payment method to your account to increase your rate limit. Visit https://platform.openai.com/account/billing to add a payment method..\n",
      "Retrying langchain.llms.openai.completion_with_retry.<locals>._completion_with_retry in 4.0 seconds as it raised RateLimitError: Rate limit reached for default-text-davinci-003 in organization org-5ZlaehgliHjM8GnlwbZNpXkb on requests per min. Limit: 3 / min. Please try again in 20s. Contact us through our help center at help.openai.com if you continue to have issues. Please add a payment method to your account to increase your rate limit. Visit https://platform.openai.com/account/billing to add a payment method..\n"
     ]
    },
    {
     "name": "stdout",
     "output_type": "stream",
     "text": [
      "\u001b[32;1m\u001b[1;3m I need to find out when Openheinmer is releasing\n",
      "Action: Search\n",
      "Action Input: \"Openheinmer release date\"\u001b[0m\n",
      "Observation: \u001b[36;1m\u001b[1;3mJuly 21, 2023\u001b[0m\n",
      "Thought:"
     ]
    },
    {
     "name": "stderr",
     "output_type": "stream",
     "text": [
      "Retrying langchain.llms.openai.completion_with_retry.<locals>._completion_with_retry in 4.0 seconds as it raised RateLimitError: Rate limit reached for default-text-davinci-003 in organization org-5ZlaehgliHjM8GnlwbZNpXkb on requests per min. Limit: 3 / min. Please try again in 20s. Contact us through our help center at help.openai.com if you continue to have issues. Please add a payment method to your account to increase your rate limit. Visit https://platform.openai.com/account/billing to add a payment method..\n",
      "Retrying langchain.llms.openai.completion_with_retry.<locals>._completion_with_retry in 4.0 seconds as it raised RateLimitError: Rate limit reached for default-text-davinci-003 in organization org-5ZlaehgliHjM8GnlwbZNpXkb on requests per min. Limit: 3 / min. Please try again in 20s. Contact us through our help center at help.openai.com if you continue to have issues. Please add a payment method to your account to increase your rate limit. Visit https://platform.openai.com/account/billing to add a payment method..\n",
      "Retrying langchain.llms.openai.completion_with_retry.<locals>._completion_with_retry in 4.0 seconds as it raised RateLimitError: Rate limit reached for default-text-davinci-003 in organization org-5ZlaehgliHjM8GnlwbZNpXkb on requests per min. Limit: 3 / min. Please try again in 20s. Contact us through our help center at help.openai.com if you continue to have issues. Please add a payment method to your account to increase your rate limit. Visit https://platform.openai.com/account/billing to add a payment method..\n",
      "Retrying langchain.llms.openai.completion_with_retry.<locals>._completion_with_retry in 8.0 seconds as it raised RateLimitError: Rate limit reached for default-text-davinci-003 in organization org-5ZlaehgliHjM8GnlwbZNpXkb on requests per min. Limit: 3 / min. Please try again in 20s. Contact us through our help center at help.openai.com if you continue to have issues. Please add a payment method to your account to increase your rate limit. Visit https://platform.openai.com/account/billing to add a payment method..\n"
     ]
    },
    {
     "name": "stdout",
     "output_type": "stream",
     "text": [
      "\u001b[32;1m\u001b[1;3m I now know the final answer\n",
      "Final Answer: Openheinmer is releasing on July 21, 2023.\u001b[0m\n",
      "\n",
      "\u001b[1m> Finished chain.\u001b[0m\n"
     ]
    },
    {
     "data": {
      "text/plain": [
       "'Openheinmer is releasing on July 21, 2023.'"
      ]
     },
     "execution_count": 27,
     "metadata": {},
     "output_type": "execute_result"
    }
   ],
   "source": [
    "myGoogleChain.run(\"Tell me when is Openheinmer is releasing??\")"
   ]
  },
  {
   "cell_type": "code",
   "execution_count": null,
   "id": "f14b84f0",
   "metadata": {},
   "outputs": [],
   "source": []
  }
 ],
 "metadata": {
  "kernelspec": {
   "display_name": "Python 3 (ipykernel)",
   "language": "python",
   "name": "python3"
  },
  "language_info": {
   "codemirror_mode": {
    "name": "ipython",
    "version": 3
   },
   "file_extension": ".py",
   "mimetype": "text/x-python",
   "name": "python",
   "nbconvert_exporter": "python",
   "pygments_lexer": "ipython3",
   "version": "3.10.9"
  }
 },
 "nbformat": 4,
 "nbformat_minor": 5
}
