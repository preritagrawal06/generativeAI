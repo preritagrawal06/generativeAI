{
 "cells": [
  {
   "cell_type": "code",
   "execution_count": 1,
   "id": "f0dc811f",
   "metadata": {},
   "source": [
    "from langchain.agents.agent_toolkits import create_python_agent\n",
    "from langchain.tools.python.tool import PythonREPLTool\n",
    "from langchain.python import PythonREPL\n",
    "from langchain.chains import LLMChain\n",
    "from langchain.llms.openai import OpenAI\n",
    "from langchain.prompts import PromptTemplate\n",
    "from langchain.chat_models import ChatOpenAI\n",
    "from langchain.agents.agent_types import AgentType\n",
    "myOpenAPiKey=\"your-openai-key\"\n",
    "myLLM=OpenAI(\n",
    "    temperature=0.5, \n",
    "    max_tokens=1000, \n",
    "    openai_api_key= myOpenAPiKey\n",
    ")\n",
    "template=\"\"\"  you are an 10 years experienced programmer ,\n",
    "so I will be giving you some coding  questions. \n",
    "So write a code for  {code}.\n",
    "1. Explain each line of code in detail. \"\"\"\n",
    "\n",
    "myprompttemplate=PromptTemplate(\n",
    "                                input_variables=['code'],\n",
    "                               template=template\n",
    "                            )\n",
    "mychain= LLMChain(\n",
    "                    llm=myLLM,\n",
    "                    prompt=myprompttemplate\n",
    ")\n",
    "\n",
    "agent_executor = create_python_agent(\n",
    "    \n",
    "    llm=myLLM,\n",
    "    tool=PythonREPLTool(),\n",
    "     agent_type=AgentType.ZERO_SHOT_REACT_DESCRIPTION,\n",
    "    verbose=True\n",
    "    \n",
    ")\n",
    "agent_executor.run(\"Write a code for Travelling Salesman Person \")"
   ]
  },
  {
   "cell_type": "code",
   "execution_count": null,
   "id": "cc3fc2cb",
   "metadata": {},
   "outputs": [],
   "source": []
  },
  {
   "cell_type": "code",
   "execution_count": null,
   "id": "1fa17c61",
   "metadata": {},
   "outputs": [],
   "source": [
    "print(myprompttemplate.format(code = \"Write a code for Travelling Salesman Person\"))"
   ]
  },
  {
   "cell_type": "code",
   "execution_count": null,
   "id": "34b2bd1f",
   "metadata": {},
   "outputs": [],
   "source": []
  },
  {
   "cell_type": "code",
   "execution_count": null,
   "id": "13791eca",
   "metadata": {
    "scrolled": true
   },
   "outputs": [],
   "source": []
  },
  {
   "cell_type": "code",
   "execution_count": null,
   "id": "c2680d33",
   "metadata": {},
   "outputs": [],
   "source": [
    "output=mychain.run(code = \"Write a code for Travelling Salesman Person\")"
   ]
  },
  {
   "cell_type": "code",
   "execution_count": null,
   "id": "5b4414ff",
   "metadata": {},
   "outputs": [],
   "source": [
    "print(output)"
   ]
  },
  {
   "cell_type": "code",
   "execution_count": null,
   "id": "9b2843d6",
   "metadata": {},
   "outputs": [],
   "source": []
  },
  {
   "cell_type": "code",
   "execution_count": null,
   "id": "5fc1beae",
   "metadata": {},
   "outputs": [],
   "source": []
  }
 ],
 "metadata": {
  "kernelspec": {
   "display_name": "Python 3 (ipykernel)",
   "language": "python",
   "name": "python3"
  },
  "language_info": {
   "codemirror_mode": {
    "name": "ipython",
    "version": 3
   },
   "file_extension": ".py",
   "mimetype": "text/x-python",
   "name": "python",
   "nbconvert_exporter": "python",
   "pygments_lexer": "ipython3",
   "version": "3.10.9"
  }
 },
 "nbformat": 4,
 "nbformat_minor": 5
}
