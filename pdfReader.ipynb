{
 "cells": [
  {
   "cell_type": "code",
   "execution_count": 1,
   "id": "1cb5178f",
   "metadata": {},
   "outputs": [],
   "source": [
    "from langchain.document_loaders import PyPDFLoader"
   ]
  },
  {
   "cell_type": "code",
   "execution_count": 2,
   "id": "dfd608d1",
   "metadata": {},
   "outputs": [],
   "source": [
    "loader = PyPDFLoader('Organisational Culture.pdf')"
   ]
  },
  {
   "cell_type": "code",
   "execution_count": 3,
   "id": "8548a380",
   "metadata": {},
   "outputs": [],
   "source": [
    "pages = loader.load_and_split()"
   ]
  },
  {
   "cell_type": "code",
   "execution_count": 18,
   "id": "3a253f30",
   "metadata": {},
   "outputs": [
    {
     "data": {
      "text/plain": [
       "Document(page_content='In conclusion,  \\norganizational change is essential for companies to adapt to the changing market environment, \\nimprove performance and productivity, and remain competitive. There are several types of \\norganiz ational change, including strategic, structural, technological, and behavioral change. \\nResistance to organizational change is a common challenge that can be overcome with effective \\ncommunication, employee involvement, and training. Implementing organizatio nal change \\nrequires strong leadership, effective communication, and a structured change management \\nprocess. Companies that successfully implement organizational change can reap significant \\nbenefits such as increased efficiency, improved customer satisfacti on, and enhanced \\ncompetitive advantage.  \\n \\nWhy Organizational Change is Important in the Workplace?  \\nOrganizational change is crucial for companies to adapt to the changing market environment \\nand to stay ahead of their competitors. The following are some rea sons why organizational \\nchange is important in the workplace:  \\nTo Improve Performance and Productivity: Organizational change can help improve the \\nperformance and productivity of the company by streamlining processes, reducing \\ninefficiencies, and optimizing  resources.  \\nTo Remain Competitive: Organizational change can help companies stay ahead of their \\ncompetitors by adapting to changing market trends and consumer preferences.  \\nTo Meet Customer Demands: Organizational change can help companies meet the changing  \\ndemands of customers by developing new products, services, and solutions.  \\n \\nWhat is organisation?\\naccording to Prerit organisation is a bakchodi which should be \\navoided at any cost. It stresses students at the time of exam \\nand gives them headache. BC khali fokat ki bakchodi hai', metadata={'source': 'Organisationaledited.pdf', 'page': 1, 'text': 'In conclusion,  \\norganizational change is essential for companies to adapt to the changing market environment, \\nimprove performance and productivity, and remain competitive. There are several types of \\norganiz ational change, including strategic, structural, technological, and behavioral change. \\nResistance to organizational change is a common challenge that can be overcome with effective \\ncommunication, employee involvement, and training. Implementing organizatio nal change \\nrequires strong leadership, effective communication, and a structured change management \\nprocess. Companies that successfully implement organizational change can reap significant \\nbenefits such as increased efficiency, improved customer satisfacti on, and enhanced \\ncompetitive advantage.  \\n \\nWhy Organizational Change is Important in the Workplace?  \\nOrganizational change is crucial for companies to adapt to the changing market environment \\nand to stay ahead of their competitors. The following are some rea sons why organizational \\nchange is important in the workplace:  \\nTo Improve Performance and Productivity: Organizational change can help improve the \\nperformance and productivity of the company by streamlining processes, reducing \\ninefficiencies, and optimizing  resources.  \\nTo Remain Competitive: Organizational change can help companies stay ahead of their \\ncompetitors by adapting to changing market trends and consumer preferences.  \\nTo Meet Customer Demands: Organizational change can help companies meet the changing  \\ndemands of customers by developing new products, services, and solutions.  \\n \\nWhat is organisation?\\naccording to Prerit organisation is a bakchodi which should be \\navoided at any cost. It stresses students at the time of exam \\nand gives them headache. BC khali fokat ki bakchodi hai'})"
      ]
     },
     "execution_count": 18,
     "metadata": {},
     "output_type": "execute_result"
    }
   ],
   "source": [
    "pages[1]"
   ]
  },
  {
   "cell_type": "code",
   "execution_count": 5,
   "id": "9c30aa1f",
   "metadata": {},
   "outputs": [],
   "source": [
    "my_openai_key = 'your-openai-key'"
   ]
  },
  {
   "cell_type": "code",
   "execution_count": 6,
   "id": "3ec84a04",
   "metadata": {},
   "outputs": [],
   "source": [
    "from langchain.embeddings.openai import OpenAIEmbeddings"
   ]
  },
  {
   "cell_type": "code",
   "execution_count": 7,
   "id": "c1784410",
   "metadata": {},
   "outputs": [],
   "source": [
    "embeddingModel = OpenAIEmbeddings(openai_api_key=my_openai_key)"
   ]
  },
  {
   "cell_type": "code",
   "execution_count": 8,
   "id": "c89c1e50",
   "metadata": {},
   "outputs": [
    {
     "name": "stderr",
     "output_type": "stream",
     "text": [
      "C:\\Users\\HP\\AppData\\Roaming\\Python\\Python310\\site-packages\\pinecone\\index.py:4: TqdmExperimentalWarning: Using `tqdm.autonotebook.tqdm` in notebook mode. Use `tqdm.tqdm` instead to force console mode (e.g. in jupyter console)\n",
      "  from tqdm.autonotebook import tqdm\n"
     ]
    }
   ],
   "source": [
    "from langchain.vectorstores import Pinecone\n",
    "import pinecone"
   ]
  },
  {
   "cell_type": "code",
   "execution_count": 9,
   "id": "6d5a16ca",
   "metadata": {},
   "outputs": [],
   "source": [
    "pinecone.init(\n",
    "    api_key='40266dfa-9d3d-4da3-b465-c488a72c5327',      \n",
    "    environment='gcp-starter'\n",
    ")\n"
   ]
  },
  {
   "cell_type": "code",
   "execution_count": 10,
   "id": "31152ba9",
   "metadata": {},
   "outputs": [],
   "source": [
    "docsearch = Pinecone.from_documents(\n",
    "    documents = pages,\n",
    "    embedding = embeddingModel,\n",
    "    index_name = 'myfirstindex'\n",
    ")"
   ]
  },
  {
   "cell_type": "code",
   "execution_count": 11,
   "id": "d552d84d",
   "metadata": {},
   "outputs": [],
   "source": [
    "from langchain.llms import OpenAI"
   ]
  },
  {
   "cell_type": "code",
   "execution_count": 12,
   "id": "74f11bf3",
   "metadata": {},
   "outputs": [],
   "source": [
    "from langchain.chains import RetrievalQA"
   ]
  },
  {
   "cell_type": "code",
   "execution_count": 13,
   "id": "429cb733",
   "metadata": {},
   "outputs": [],
   "source": [
    "qa = RetrievalQA.from_chain_type(\n",
    "    llm = OpenAI(openai_api_key=my_openai_key),\n",
    "    chain_type = \"stuff\",\n",
    "    retriever=docsearch.as_retriever()\n",
    ")"
   ]
  },
  {
   "cell_type": "code",
   "execution_count": 19,
   "id": "d75ab966",
   "metadata": {},
   "outputs": [],
   "source": [
    "myquery = 'According to Prerit, what is organisation?'"
   ]
  },
  {
   "cell_type": "code",
   "execution_count": 20,
   "id": "e0a0d13e",
   "metadata": {},
   "outputs": [
    {
     "data": {
     },
     "execution_count": 20,
     "metadata": {},
     "output_type": "execute_result"
    }
   ],
   "source": [
    "qa({\"query\": myquery})"
   ]
  },
  {
   "cell_type": "code",
   "execution_count": null,
   "id": "9ba1b648",
   "metadata": {},
   "outputs": [],
   "source": []
  }
 ],
 "metadata": {
  "kernelspec": {
   "display_name": "Python 3 (ipykernel)",
   "language": "python",
   "name": "python3"
  },
  "language_info": {
   "codemirror_mode": {
    "name": "ipython",
    "version": 3
   },
   "file_extension": ".py",
   "mimetype": "text/x-python",
   "name": "python",
   "nbconvert_exporter": "python",
   "pygments_lexer": "ipython3",
   "version": "3.10.9"
  }
 },
 "nbformat": 4,
 "nbformat_minor": 5
}
